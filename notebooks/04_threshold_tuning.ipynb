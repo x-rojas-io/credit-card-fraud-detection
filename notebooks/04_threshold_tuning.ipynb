{
 "cells": [
  {
   "cell_type": "markdown",
   "id": "9ad0fed7",
   "metadata": {},
   "source": [
    "# 🎯 Phase 4: Threshold Tuning and Final Evaluation\n",
    "\n",
    "In this notebook, we tune the decision threshold used for predicting fraud.  \n",
    "Default `0.5` threshold often underperforms in imbalanced classification.\n",
    "\n",
    "We aim to:\n",
    "- Visualize Precision, Recall, and F1 across thresholds\n",
    "- Choose a threshold that matches real-world risk tolerance\n",
    "- Finalize model performance metrics"
   ]
  },
  {
   "cell_type": "code",
   "execution_count": null,
   "id": "cf77a512",
   "metadata": {},
   "outputs": [],
   "source": [
    "import pandas as pd\n",
    "import numpy as np\n",
    "from sklearn.metrics import classification_report, confusion_matrix, precision_recall_curve, f1_score\n",
    "import matplotlib.pyplot as plt\n",
    "import seaborn as sns\n",
    "\n",
    "sns.set(style='whitegrid')\n",
    "\n",
    "# Load results from Phase 3 (optional: recompute model)\n",
    "df = pd.read_csv(\"../data/isoforest_scored.csv\")"
   ]
  },
  {
   "cell_type": "code",
   "execution_count": 3,
   "id": "e5f510b4",
   "metadata": {},
   "outputs": [],
   "source": [
    "import joblib\n",
    "import numpy as np\n",
    "import pandas as pd\n",
    "from sklearn.metrics import (\n",
    "    precision_recall_curve, f1_score, confusion_matrix, classification_report\n",
    ")\n",
    "import matplotlib.pyplot as plt\n",
    "import seaborn as sns\n",
    "\n",
    "sns.set(style='whitegrid')\n",
    "\n",
    "# Load persisted artifacts\n",
    "clf = joblib.load(\"../models/rf_model.joblib\")\n",
    "X_test = pd.read_csv(\"../data/X_test.csv\")\n",
    "y_test = pd.read_csv(\"../data/y_test.csv\").squeeze()\n",
    "y_probs = np.load(\"../data/y_probs.npy\")"
   ]
  },
  {
   "cell_type": "code",
   "execution_count": 4,
   "id": "afc2d1d4",
   "metadata": {},
   "outputs": [
    {
     "name": "stdout",
     "output_type": "stream",
     "text": [
      "✅ Phase 4 complete. Threshold tuned to 0.2800\n"
     ]
    }
   ],
   "source": [
    "# Precision, Recall, F1 vs Thresholds\n",
    "import os\n",
    "os.makedirs(\"../assets\", exist_ok=True)\n",
    "\n",
    "# PR-F1 Curve\n",
    "precision, recall, thresholds = precision_recall_curve(y_test, y_probs)\n",
    "f1_scores = 2 * (precision * recall) / (precision + recall + 1e-8)\n",
    "thresholds = np.append(thresholds, 1.0)\n",
    "\n",
    "plt.figure(figsize=(10,6))\n",
    "plt.plot(thresholds, precision, label=\"Precision\")\n",
    "plt.plot(thresholds, recall, label=\"Recall\")\n",
    "plt.plot(thresholds, f1_scores, label=\"F1 Score\")\n",
    "plt.axvline(x=0.5, color='gray', linestyle='--', label=\"Default Threshold\")\n",
    "plt.xlabel(\"Threshold\")\n",
    "plt.ylabel(\"Score\")\n",
    "plt.title(\"Precision / Recall / F1 vs Threshold\")\n",
    "plt.legend()\n",
    "plt.tight_layout()\n",
    "plt.savefig(\"../assets/threshold_vs_metrics.png\")\n",
    "plt.close()\n",
    "\n",
    "# Best threshold eval\n",
    "best_idx = np.argmax(f1_scores)\n",
    "best_threshold = thresholds[best_idx]\n",
    "y_thresh_pred = (y_probs >= best_threshold).astype(int)\n",
    "\n",
    "# Confusion matrix @ threshold\n",
    "plt.figure(figsize=(4,3))\n",
    "sns.heatmap(confusion_matrix(y_test, y_thresh_pred), annot=True, fmt='d', cmap='Oranges')\n",
    "plt.title(f\"Confusion Matrix @ Threshold {best_threshold:.2f}\")\n",
    "plt.xlabel(\"Predicted\")\n",
    "plt.ylabel(\"Actual\")\n",
    "plt.tight_layout()\n",
    "plt.savefig(\"../assets/final_confusion_matrix_thresh.png\")\n",
    "plt.close()\n",
    "\n",
    "# Save final report\n",
    "with open(\"../assets/final_report_threshold_tuned.txt\", \"w\") as f:\n",
    "    f.write(classification_report(y_test, y_thresh_pred, digits=4))\n",
    "\n",
    "print(f\"✅ Phase 4 complete. Threshold tuned to {best_threshold:.4f}\")"
   ]
  }
 ],
 "metadata": {
  "kernelspec": {
   "display_name": ".venv",
   "language": "python",
   "name": "python3"
  },
  "language_info": {
   "codemirror_mode": {
    "name": "ipython",
    "version": 3
   },
   "file_extension": ".py",
   "mimetype": "text/x-python",
   "name": "python",
   "nbconvert_exporter": "python",
   "pygments_lexer": "ipython3",
   "version": "3.12.8"
  }
 },
 "nbformat": 4,
 "nbformat_minor": 5
}
